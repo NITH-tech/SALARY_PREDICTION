{
  "nbformat": 4,
  "nbformat_minor": 0,
  "metadata": {
    "colab": {
      "provenance": []
    },
    "kernelspec": {
      "name": "python3",
      "display_name": "Python 3"
    },
    "language_info": {
      "name": "python"
    }
  },
  "cells": [
    {
      "cell_type": "code",
      "execution_count": 1,
      "metadata": {
        "id": "jFV7tD2-_3c7"
      },
      "outputs": [],
      "source": [
        "import os\n",
        "import pandas as pd\n",
        "import numpy as np\n",
        "from sklearn.model_selection import train_test_split\n",
        "from sklearn.preprocessing import StandardScaler, MinMaxScaler\n",
        "from sklearn.linear_model import LinearRegression\n",
        "from sklearn.metrics import mean_squared_error\n",
        "from flask import Flask, request, jsonify"
      ]
    },
    {
      "cell_type": "code",
      "source": [
        "# Load the dataset\n",
        "data = pd.read_csv('/content/drive/MyDrive/my_project/Salary_Data.csv')\n",
        "\n",
        "print(data.columns)\n",
        "data.head()\n",
        "print(data.dtypes)\n",
        "data.columns = data.columns.str.strip()"
      ],
      "metadata": {
        "colab": {
          "base_uri": "https://localhost:8080/"
        },
        "id": "GIjbqoa7ABnN",
        "outputId": "492195f4-d74c-4335-f820-1ed9aa8375e9"
      },
      "execution_count": 3,
      "outputs": [
        {
          "output_type": "stream",
          "name": "stdout",
          "text": [
            "Index(['Age', 'Gender', 'Education_Level', 'Job', 'Years_of_Experience',\n",
            "       'Salary'],\n",
            "      dtype='object')\n",
            "Age                    float64\n",
            "Gender                  object\n",
            "Education_Level         object\n",
            "Job                     object\n",
            "Years_of_Experience    float64\n",
            "Salary                 float64\n",
            "dtype: object\n"
          ]
        }
      ]
    },
    {
      "cell_type": "code",
      "source": [
        "print(data.columns)\n"
      ],
      "metadata": {
        "colab": {
          "base_uri": "https://localhost:8080/"
        },
        "id": "z4-UQMqgBmBq",
        "outputId": "653a67c1-1d5c-40e6-a134-2c178556b648"
      },
      "execution_count": 4,
      "outputs": [
        {
          "output_type": "stream",
          "name": "stdout",
          "text": [
            "Index(['Age', 'Gender', 'Education_Level', 'Job', 'Years_of_Experience',\n",
            "       'Salary'],\n",
            "      dtype='object')\n"
          ]
        }
      ]
    },
    {
      "cell_type": "code",
      "source": [
        "# Assuming df is your DataFrame\n",
        "if 'job' in data.columns:\n",
        "    print(data['job'])\n",
        "else:\n",
        "    print(\"'Job' key does not exist in the DataFrame\")"
      ],
      "metadata": {
        "colab": {
          "base_uri": "https://localhost:8080/"
        },
        "id": "stel04gHILBs",
        "outputId": "aff6b8df-3ff0-4b86-d94b-c59360f6bf26"
      },
      "execution_count": 5,
      "outputs": [
        {
          "output_type": "stream",
          "name": "stdout",
          "text": [
            "'Job' key does not exist in the DataFrame\n"
          ]
        }
      ]
    },
    {
      "cell_type": "code",
      "source": [
        "import pandas as pd\n",
        "from sklearn.preprocessing import LabelEncoder\n",
        "\n",
        "df = pd.read_csv('/content/drive/MyDrive/my_project/Salary_Data.csv')\n",
        "job_column = df['Job']\n",
        "le = LabelEncoder()\n",
        "df['Job_num'] = le.fit_transform(job_column)\n",
        "df = df.drop(columns=['Job'])\n",
        "\n",
        "print(df)"
      ],
      "metadata": {
        "colab": {
          "base_uri": "https://localhost:8080/"
        },
        "id": "5gkNr874UMBL",
        "outputId": "069c0f44-a540-4436-956b-d5a0f96750ee"
      },
      "execution_count": 6,
      "outputs": [
        {
          "output_type": "stream",
          "name": "stdout",
          "text": [
            "      Age  Gender Education_Level  Years_of_Experience    Salary  Job_num\n",
            "0    32.0    Male      Bachelor's                  5.0   90000.0      159\n",
            "1    28.0  Female        Master's                  3.0   65000.0       17\n",
            "2    45.0    Male             PhD                 15.0  150000.0      130\n",
            "3    36.0  Female      Bachelor's                  7.0   60000.0      101\n",
            "4    52.0    Male        Master's                 20.0  200000.0       22\n",
            "..    ...     ...             ...                  ...       ...      ...\n",
            "370  35.0  Female      Bachelor's                  8.0   85000.0      131\n",
            "371  43.0    Male        Master's                 19.0  170000.0       30\n",
            "372  29.0  Female      Bachelor's                  2.0   40000.0       70\n",
            "373  34.0    Male      Bachelor's                  7.0   90000.0      137\n",
            "374  44.0  Female             PhD                 15.0  150000.0      110\n",
            "\n",
            "[375 rows x 6 columns]\n"
          ]
        }
      ]
    },
    {
      "cell_type": "code",
      "source": [
        "job_column = df['Gender']\n",
        "le = LabelEncoder()\n",
        "df['GEN'] = le.fit_transform(job_column)\n",
        "df = df.drop(columns=['Gender'])\n",
        "\n",
        "print(df)"
      ],
      "metadata": {
        "colab": {
          "base_uri": "https://localhost:8080/"
        },
        "id": "PGYbxBcuUwbi",
        "outputId": "9377a9c0-85c0-469f-b938-ef3e226f5500"
      },
      "execution_count": 7,
      "outputs": [
        {
          "output_type": "stream",
          "name": "stdout",
          "text": [
            "      Age Education_Level  Years_of_Experience    Salary  Job_num  GEN\n",
            "0    32.0      Bachelor's                  5.0   90000.0      159    1\n",
            "1    28.0        Master's                  3.0   65000.0       17    0\n",
            "2    45.0             PhD                 15.0  150000.0      130    1\n",
            "3    36.0      Bachelor's                  7.0   60000.0      101    0\n",
            "4    52.0        Master's                 20.0  200000.0       22    1\n",
            "..    ...             ...                  ...       ...      ...  ...\n",
            "370  35.0      Bachelor's                  8.0   85000.0      131    0\n",
            "371  43.0        Master's                 19.0  170000.0       30    1\n",
            "372  29.0      Bachelor's                  2.0   40000.0       70    0\n",
            "373  34.0      Bachelor's                  7.0   90000.0      137    1\n",
            "374  44.0             PhD                 15.0  150000.0      110    0\n",
            "\n",
            "[375 rows x 6 columns]\n"
          ]
        }
      ]
    },
    {
      "cell_type": "code",
      "source": [
        "job_column = df['Education_Level']\n",
        "le = LabelEncoder()\n",
        "df['EDU'] = le.fit_transform(job_column)\n",
        "df = df.drop(columns=['Education_Level'])\n",
        "\n",
        "print(df)"
      ],
      "metadata": {
        "colab": {
          "base_uri": "https://localhost:8080/"
        },
        "id": "yEV7bzcNVFvF",
        "outputId": "1c5406f0-06df-475c-e6cb-78b75a7fa237"
      },
      "execution_count": 8,
      "outputs": [
        {
          "output_type": "stream",
          "name": "stdout",
          "text": [
            "      Age  Years_of_Experience    Salary  Job_num  GEN  EDU\n",
            "0    32.0                  5.0   90000.0      159    1    0\n",
            "1    28.0                  3.0   65000.0       17    0    1\n",
            "2    45.0                 15.0  150000.0      130    1    2\n",
            "3    36.0                  7.0   60000.0      101    0    0\n",
            "4    52.0                 20.0  200000.0       22    1    1\n",
            "..    ...                  ...       ...      ...  ...  ...\n",
            "370  35.0                  8.0   85000.0      131    0    0\n",
            "371  43.0                 19.0  170000.0       30    1    1\n",
            "372  29.0                  2.0   40000.0       70    0    0\n",
            "373  34.0                  7.0   90000.0      137    1    0\n",
            "374  44.0                 15.0  150000.0      110    0    2\n",
            "\n",
            "[375 rows x 6 columns]\n"
          ]
        }
      ]
    },
    {
      "cell_type": "code",
      "source": [
        "# Assume df is your DataFrame with the 'Age' column\n",
        "df['Age'].fillna(df['Age'].median(), inplace=True)"
      ],
      "metadata": {
        "id": "klrIGzp_V3kd"
      },
      "execution_count": 10,
      "outputs": []
    },
    {
      "cell_type": "code",
      "source": [
        "# Assume df is your DataFrame with the 'Age' column\n",
        "df['Years_of_Experience'].fillna(df['Years_of_Experience'].mean(), inplace=True)"
      ],
      "metadata": {
        "id": "l24WY4HzZKY1"
      },
      "execution_count": 11,
      "outputs": []
    },
    {
      "cell_type": "code",
      "source": [
        "# Assume df is your DataFrame with the 'Age' column\n",
        "df['Salary'].fillna(df['Salary'].mean(), inplace=True)\n",
        "\n",
        "# Assume df is your DataFrame with the 'Age' column\n",
        "df['Job_num'].fillna(df['Job_num'].mode(), inplace=True)\n",
        "\n",
        "# Assume df is your DataFrame with the 'Age' column\n",
        "df['GEN'].fillna(df['GEN'].mode(), inplace=True)\n",
        "\n",
        "# Assume df is your DataFrame with the 'Age' column\n",
        "df['EDU'].fillna(df['EDU'].mean(), inplace=True)"
      ],
      "metadata": {
        "id": "-fPUk6kvZVsw"
      },
      "execution_count": 9,
      "outputs": []
    },
    {
      "cell_type": "code",
      "source": [
        "# Outlier detection and treatment\n",
        "Q1 = df.quantile(0.25)\n",
        "Q3 = df.quantile(0.75)\n",
        "IQR = Q3 - Q1\n",
        "df = df[~((df < (Q1 - 1.5 * IQR)) | (df > (Q3 + 1.5 * IQR))).any(axis=1)]\n",
        "print(df)"
      ],
      "metadata": {
        "colab": {
          "base_uri": "https://localhost:8080/"
        },
        "id": "a-RNs1WUdnTf",
        "outputId": "76a2e0ba-3aa9-4652-9830-81dd3f48afdd"
      },
      "execution_count": 12,
      "outputs": [
        {
          "output_type": "stream",
          "name": "stdout",
          "text": [
            "      Age  Years_of_Experience    Salary  Job_num  GEN  EDU\n",
            "0    32.0                  5.0   90000.0      159    1    0\n",
            "1    28.0                  3.0   65000.0       17    0    1\n",
            "2    45.0                 15.0  150000.0      130    1    2\n",
            "3    36.0                  7.0   60000.0      101    0    0\n",
            "4    52.0                 20.0  200000.0       22    1    1\n",
            "..    ...                  ...       ...      ...  ...  ...\n",
            "370  35.0                  8.0   85000.0      131    0    0\n",
            "371  43.0                 19.0  170000.0       30    1    1\n",
            "372  29.0                  2.0   40000.0       70    0    0\n",
            "373  34.0                  7.0   90000.0      137    1    0\n",
            "374  44.0                 15.0  150000.0      110    0    2\n",
            "\n",
            "[373 rows x 6 columns]\n"
          ]
        }
      ]
    },
    {
      "cell_type": "code",
      "source": [
        "# Assuming your dataset is a pandas dataframe named 'df' and it has predictor variables ['var1', 'var2', 'var3'] and target variable 'target'\n",
        "from sklearn.model_selection import train_test_split\n",
        "\n",
        "X = df[['Years_of_Experience', 'Age', 'Job_num','GEN','EDU']].values\n",
        "y = df['Salary'].values\n",
        "\n",
        "X_train, X_test, y_train, y_test = train_test_split(X, y, test_size=0.2, random_state=0)"
      ],
      "metadata": {
        "id": "d-1DPlVneD5i"
      },
      "execution_count": 13,
      "outputs": []
    },
    {
      "cell_type": "code",
      "source": [
        "from sklearn.preprocessing import StandardScaler\n",
        "from sklearn.impute import SimpleImputer\n",
        "\n",
        "# feature scaling\n",
        "scaler = StandardScaler()\n",
        "X_train = scaler.fit_transform(X_train)\n",
        "X_test = scaler.transform(X_test)\n",
        "\n",
        "# imputing missing values (if any)\n",
        "imputer = SimpleImputer(missing_values=np.nan, strategy='mean')\n",
        "imputer = imputer.fit(X_train)\n",
        "X_train = imputer.transform(X_train)\n",
        "X_test = imputer.transform(X_test)"
      ],
      "metadata": {
        "id": "wgi9Wf5FBZ34"
      },
      "execution_count": 14,
      "outputs": []
    },
    {
      "cell_type": "code",
      "source": [
        "from sklearn.linear_model import LogisticRegression\n",
        "\n",
        "# for example, we use logistic regression\n",
        "model = LogisticRegression()\n",
        "model.fit(X_train, y_train)"
      ],
      "metadata": {
        "colab": {
          "base_uri": "https://localhost:8080/",
          "height": 75
        },
        "id": "wZqI-lhKBlal",
        "outputId": "6fc84699-d14b-4565-fb37-5e6e7d6d6d1e"
      },
      "execution_count": 15,
      "outputs": [
        {
          "output_type": "execute_result",
          "data": {
            "text/plain": [
              "LogisticRegression()"
            ],
            "text/html": [
              "<style>#sk-container-id-1 {color: black;background-color: white;}#sk-container-id-1 pre{padding: 0;}#sk-container-id-1 div.sk-toggleable {background-color: white;}#sk-container-id-1 label.sk-toggleable__label {cursor: pointer;display: block;width: 100%;margin-bottom: 0;padding: 0.3em;box-sizing: border-box;text-align: center;}#sk-container-id-1 label.sk-toggleable__label-arrow:before {content: \"▸\";float: left;margin-right: 0.25em;color: #696969;}#sk-container-id-1 label.sk-toggleable__label-arrow:hover:before {color: black;}#sk-container-id-1 div.sk-estimator:hover label.sk-toggleable__label-arrow:before {color: black;}#sk-container-id-1 div.sk-toggleable__content {max-height: 0;max-width: 0;overflow: hidden;text-align: left;background-color: #f0f8ff;}#sk-container-id-1 div.sk-toggleable__content pre {margin: 0.2em;color: black;border-radius: 0.25em;background-color: #f0f8ff;}#sk-container-id-1 input.sk-toggleable__control:checked~div.sk-toggleable__content {max-height: 200px;max-width: 100%;overflow: auto;}#sk-container-id-1 input.sk-toggleable__control:checked~label.sk-toggleable__label-arrow:before {content: \"▾\";}#sk-container-id-1 div.sk-estimator input.sk-toggleable__control:checked~label.sk-toggleable__label {background-color: #d4ebff;}#sk-container-id-1 div.sk-label input.sk-toggleable__control:checked~label.sk-toggleable__label {background-color: #d4ebff;}#sk-container-id-1 input.sk-hidden--visually {border: 0;clip: rect(1px 1px 1px 1px);clip: rect(1px, 1px, 1px, 1px);height: 1px;margin: -1px;overflow: hidden;padding: 0;position: absolute;width: 1px;}#sk-container-id-1 div.sk-estimator {font-family: monospace;background-color: #f0f8ff;border: 1px dotted black;border-radius: 0.25em;box-sizing: border-box;margin-bottom: 0.5em;}#sk-container-id-1 div.sk-estimator:hover {background-color: #d4ebff;}#sk-container-id-1 div.sk-parallel-item::after {content: \"\";width: 100%;border-bottom: 1px solid gray;flex-grow: 1;}#sk-container-id-1 div.sk-label:hover label.sk-toggleable__label {background-color: #d4ebff;}#sk-container-id-1 div.sk-serial::before {content: \"\";position: absolute;border-left: 1px solid gray;box-sizing: border-box;top: 0;bottom: 0;left: 50%;z-index: 0;}#sk-container-id-1 div.sk-serial {display: flex;flex-direction: column;align-items: center;background-color: white;padding-right: 0.2em;padding-left: 0.2em;position: relative;}#sk-container-id-1 div.sk-item {position: relative;z-index: 1;}#sk-container-id-1 div.sk-parallel {display: flex;align-items: stretch;justify-content: center;background-color: white;position: relative;}#sk-container-id-1 div.sk-item::before, #sk-container-id-1 div.sk-parallel-item::before {content: \"\";position: absolute;border-left: 1px solid gray;box-sizing: border-box;top: 0;bottom: 0;left: 50%;z-index: -1;}#sk-container-id-1 div.sk-parallel-item {display: flex;flex-direction: column;z-index: 1;position: relative;background-color: white;}#sk-container-id-1 div.sk-parallel-item:first-child::after {align-self: flex-end;width: 50%;}#sk-container-id-1 div.sk-parallel-item:last-child::after {align-self: flex-start;width: 50%;}#sk-container-id-1 div.sk-parallel-item:only-child::after {width: 0;}#sk-container-id-1 div.sk-dashed-wrapped {border: 1px dashed gray;margin: 0 0.4em 0.5em 0.4em;box-sizing: border-box;padding-bottom: 0.4em;background-color: white;}#sk-container-id-1 div.sk-label label {font-family: monospace;font-weight: bold;display: inline-block;line-height: 1.2em;}#sk-container-id-1 div.sk-label-container {text-align: center;}#sk-container-id-1 div.sk-container {/* jupyter's `normalize.less` sets `[hidden] { display: none; }` but bootstrap.min.css set `[hidden] { display: none !important; }` so we also need the `!important` here to be able to override the default hidden behavior on the sphinx rendered scikit-learn.org. See: https://github.com/scikit-learn/scikit-learn/issues/21755 */display: inline-block !important;position: relative;}#sk-container-id-1 div.sk-text-repr-fallback {display: none;}</style><div id=\"sk-container-id-1\" class=\"sk-top-container\"><div class=\"sk-text-repr-fallback\"><pre>LogisticRegression()</pre><b>In a Jupyter environment, please rerun this cell to show the HTML representation or trust the notebook. <br />On GitHub, the HTML representation is unable to render, please try loading this page with nbviewer.org.</b></div><div class=\"sk-container\" hidden><div class=\"sk-item\"><div class=\"sk-estimator sk-toggleable\"><input class=\"sk-toggleable__control sk-hidden--visually\" id=\"sk-estimator-id-1\" type=\"checkbox\" checked><label for=\"sk-estimator-id-1\" class=\"sk-toggleable__label sk-toggleable__label-arrow\">LogisticRegression</label><div class=\"sk-toggleable__content\"><pre>LogisticRegression()</pre></div></div></div></div></div>"
            ]
          },
          "metadata": {},
          "execution_count": 15
        }
      ]
    },
    {
      "cell_type": "code",
      "source": [
        "from sklearn.metrics import accuracy_score, classification_report, confusion_matrix\n",
        "\n",
        "# make predictions\n",
        "y_pred = model.predict(X_test)\n",
        "\n",
        "# evaluate performance\n",
        "print(f\"Accuracy: {accuracy_score(y_test, y_pred)}\")\n",
        "print(f\"Confusion Matrix: \\n{confusion_matrix(y_test, y_pred)}\")\n",
        "print(f\"Classification Report: \\n{classification_report(y_test, y_pred)}\")"
      ],
      "metadata": {
        "colab": {
          "base_uri": "https://localhost:8080/"
        },
        "id": "fJjiCELYBscl",
        "outputId": "90f29b17-1e43-42fb-e92f-86bbc74f7d50"
      },
      "execution_count": 16,
      "outputs": [
        {
          "output_type": "stream",
          "name": "stdout",
          "text": [
            "Accuracy: 0.28\n",
            "Confusion Matrix: \n",
            "[[0 2 0 0 0 0 0 0 0 0 0 0 0 0 0 0 0 0 0 0 0 0 0 0 0 0]\n",
            " [0 9 0 0 0 0 0 0 0 0 0 0 0 0 0 0 0 0 0 0 0 0 0 0 0 0]\n",
            " [0 4 0 1 0 0 0 0 0 0 0 0 0 0 0 0 0 0 0 0 0 0 0 0 0 0]\n",
            " [0 3 0 0 0 1 0 0 0 0 0 0 0 0 0 0 0 0 0 0 0 0 0 0 0 0]\n",
            " [0 1 1 0 0 0 0 0 0 0 0 0 0 0 0 0 0 0 0 0 0 0 0 0 0 0]\n",
            " [0 0 0 1 0 1 0 0 0 1 0 0 0 0 0 0 0 0 0 0 0 0 0 0 0 0]\n",
            " [0 1 1 0 0 0 0 0 0 0 0 0 0 0 0 0 0 0 0 0 0 0 0 0 0 0]\n",
            " [0 0 0 2 0 0 0 0 0 0 0 0 0 0 0 0 0 0 0 0 0 0 0 0 0 0]\n",
            " [0 0 0 0 0 0 0 0 0 0 0 1 0 0 0 0 0 0 0 0 0 0 0 0 0 0]\n",
            " [0 0 0 0 1 1 0 0 0 0 0 0 0 0 0 0 0 0 0 0 0 0 0 0 0 0]\n",
            " [0 0 0 0 0 0 0 0 0 0 0 0 1 0 0 0 0 0 0 0 0 0 0 0 0 0]\n",
            " [0 0 0 0 0 0 0 0 1 1 0 0 2 0 0 0 0 0 0 0 0 0 0 0 0 0]\n",
            " [0 0 0 0 0 0 0 0 0 0 0 0 5 0 0 0 0 0 0 0 0 0 0 0 0 0]\n",
            " [0 0 0 0 0 0 0 0 0 0 0 0 1 0 0 0 0 2 0 0 0 0 0 0 0 0]\n",
            " [0 0 0 0 0 0 0 0 0 0 0 0 1 0 0 0 0 0 0 1 0 0 0 0 0 0]\n",
            " [0 0 0 0 0 0 0 0 0 0 0 0 1 0 0 0 0 1 0 0 0 0 0 0 0 0]\n",
            " [0 0 0 0 0 0 0 0 0 0 0 0 0 0 0 0 0 0 0 0 0 0 0 1 0 0]\n",
            " [0 0 0 0 0 0 0 0 0 1 0 0 1 0 0 1 1 0 0 1 1 0 0 0 0 0]\n",
            " [0 0 0 0 0 0 0 0 0 0 0 0 0 0 0 0 0 0 0 1 0 0 0 0 0 0]\n",
            " [0 0 0 0 0 0 0 0 0 0 0 0 0 0 0 2 0 0 0 0 0 0 0 0 0 0]\n",
            " [0 0 0 0 0 0 0 0 0 0 0 0 0 0 0 0 0 0 0 0 0 1 1 0 0 0]\n",
            " [0 0 0 0 0 0 0 0 0 0 0 0 0 0 0 0 0 0 0 0 0 0 5 0 0 0]\n",
            " [0 0 0 0 0 0 0 0 0 0 0 0 0 0 0 0 0 0 0 1 0 0 0 0 0 0]\n",
            " [0 0 0 0 0 0 0 0 0 0 0 0 0 0 0 0 0 0 0 0 0 0 0 2 1 0]\n",
            " [0 0 0 0 0 0 0 0 0 0 0 0 0 0 0 0 0 0 0 0 0 0 0 0 4 0]\n",
            " [0 0 0 0 0 0 0 0 0 0 0 0 0 0 0 0 0 0 0 0 0 0 0 0 1 0]]\n",
            "Classification Report: \n",
            "              precision    recall  f1-score   support\n",
            "\n",
            "     35000.0       0.00      0.00      0.00         2\n",
            "     40000.0       0.45      1.00      0.62         9\n",
            "     45000.0       0.00      0.00      0.00         5\n",
            "     50000.0       0.00      0.00      0.00         4\n",
            "     55000.0       0.00      0.00      0.00         2\n",
            "     60000.0       0.33      0.33      0.33         3\n",
            "     65000.0       0.00      0.00      0.00         2\n",
            "     70000.0       0.00      0.00      0.00         2\n",
            "     75000.0       0.00      0.00      0.00         1\n",
            "     80000.0       0.00      0.00      0.00         2\n",
            "     85000.0       0.00      0.00      0.00         1\n",
            "     90000.0       0.00      0.00      0.00         4\n",
            "     95000.0       0.42      1.00      0.59         5\n",
            "    100000.0       0.00      0.00      0.00         3\n",
            "    105000.0       0.00      0.00      0.00         2\n",
            "    110000.0       0.00      0.00      0.00         2\n",
            "    115000.0       0.00      0.00      0.00         1\n",
            "    120000.0       0.00      0.00      0.00         6\n",
            "    125000.0       0.00      0.00      0.00         1\n",
            "    130000.0       0.00      0.00      0.00         2\n",
            "    140000.0       0.00      0.00      0.00         2\n",
            "    150000.0       0.00      0.00      0.00         5\n",
            "    160000.0       0.00      0.00      0.00         1\n",
            "    170000.0       0.67      0.67      0.67         3\n",
            "    180000.0       0.67      1.00      0.80         4\n",
            "    190000.0       0.00      0.00      0.00         1\n",
            "\n",
            "    accuracy                           0.28        75\n",
            "   macro avg       0.10      0.15      0.12        75\n",
            "weighted avg       0.16      0.28      0.20        75\n",
            "\n"
          ]
        },
        {
          "output_type": "stream",
          "name": "stderr",
          "text": [
            "/usr/local/lib/python3.10/dist-packages/sklearn/metrics/_classification.py:1344: UndefinedMetricWarning: Precision and F-score are ill-defined and being set to 0.0 in labels with no predicted samples. Use `zero_division` parameter to control this behavior.\n",
            "  _warn_prf(average, modifier, msg_start, len(result))\n",
            "/usr/local/lib/python3.10/dist-packages/sklearn/metrics/_classification.py:1344: UndefinedMetricWarning: Precision and F-score are ill-defined and being set to 0.0 in labels with no predicted samples. Use `zero_division` parameter to control this behavior.\n",
            "  _warn_prf(average, modifier, msg_start, len(result))\n",
            "/usr/local/lib/python3.10/dist-packages/sklearn/metrics/_classification.py:1344: UndefinedMetricWarning: Precision and F-score are ill-defined and being set to 0.0 in labels with no predicted samples. Use `zero_division` parameter to control this behavior.\n",
            "  _warn_prf(average, modifier, msg_start, len(result))\n"
          ]
        }
      ]
    },
    {
      "cell_type": "code",
      "source": [
        "#!pip install matplotlib-venn\n",
        "#!pip install cartopy\n",
        "import joblib\n",
        "import pickle\n",
        "from sklearn.ensemble import RandomForestRegressor\n",
        "\n",
        "# Define the path where the model will be stored\n",
        "model_path = 'models/my_model.pkl'\n",
        "\n",
        "# Save the model to the defined path\n",
        "with open(model_path, 'wb') as f:\n",
        "    pickle.dump(clf, f)\n",
        "\n",
        "\n",
        "# assuming your trained model is called rf\n",
        "joblib.dump(df, 'model.pkl')\n",
        "\n",
        "#joblib.dump(model, 'my_model.pkl')"
      ],
      "metadata": {
        "colab": {
          "base_uri": "https://localhost:8080/"
        },
        "id": "zklz4lzWGbMs",
        "outputId": "3bd6fe13-7aa1-4dd3-9093-0b8de15be75f"
      },
      "execution_count": 17,
      "outputs": [
        {
          "output_type": "execute_result",
          "data": {
            "text/plain": [
              "['model.pkl']"
            ]
          },
          "metadata": {},
          "execution_count": 17
        }
      ]
    }
  ]
}